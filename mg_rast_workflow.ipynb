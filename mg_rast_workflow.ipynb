{
 "metadata": {
  "name": ""
 },
 "nbformat": 3,
 "nbformat_minor": 0,
 "worksheets": [
  {
   "cells": [
    {
     "cell_type": "markdown",
     "metadata": {},
     "source": [
      "# MG-RAST workflow for the 2015 Manchester Soil Workshop\n",
      "This is a recipe for for downloading metadata for a list of named MG-RAST\n",
      "projects using its API, before downloading OTU tables for any samples in\n",
      "these projects meeting a set of basic metadata criteria. This code should be\n",
      "fairly straightforward to adapt for different datasets.\n",
      "\n",
      "## Dependencies\n",
      "**biom-format**  \n",
      "`pip install biom-format`  \n",
      "  \n",
      "**Requests**  \n",
      "`pip install requests`  \n",
      "  \n",
      "(The last cell uses R, too)   \n",
      "\n",
      "*Feel free to get in touch if you have any questions. I'm [@beconstant](http://twitter.com/beconstant) on Twitter*"
     ]
    },
    {
     "cell_type": "code",
     "collapsed": false,
     "input": [
      "import os\n",
      "import re\n",
      "import sys\n",
      "import csv\n",
      "import time\n",
      "import requests"
     ],
     "language": "python",
     "metadata": {},
     "outputs": [],
     "prompt_number": 4
    },
    {
     "cell_type": "code",
     "collapsed": false,
     "input": [
      "# Download metadata for selected MG-RAST projects IDs using the API\n",
      "\n",
      "project_ids = [67, 68, 71]\n",
      "\n",
      "raw_metadata = {}\n",
      "for project_id in project_ids:\n",
      "\tcall = requests.get('http://api.metagenomics.anl.gov/metadata/export/mgp{}'\n",
      "\t\t\t\t\t\t.format(project_id))\n",
      "\tprint('Calling {}'.format(call.url))\n",
      "\traw_metadata[project_id] = call.json()"
     ],
     "language": "python",
     "metadata": {},
     "outputs": [
      {
       "output_type": "stream",
       "stream": "stdout",
       "text": [
        "Calling http://api.metagenomics.anl.gov/metadata/export/mgp67\n",
        "Calling http://api.metagenomics.anl.gov/metadata/export/mgp68"
       ]
      },
      {
       "output_type": "stream",
       "stream": "stdout",
       "text": [
        "\n",
        "Calling http://api.metagenomics.anl.gov/metadata/export/mgp71"
       ]
      },
      {
       "output_type": "stream",
       "stream": "stdout",
       "text": [
        "\n"
       ]
      }
     ],
     "prompt_number": 5
    },
    {
     "cell_type": "code",
     "collapsed": false,
     "input": [
      "# Where to find some key bits of metadata\n",
      "\n",
      "# metadata['67']['samples'][0]['libraries'][0]['data']['metagenome_id']['value']\n",
      "# metadata['67']['data']['project_name']['value']\n",
      "# metadata['67']['samples'][0]['data']['collection_date']['value']\n",
      "# metadata['67']['samples'][0]['data']['longitude']['value']\n",
      "# metadata['67']['samples'][0]['data']['latitude']['value']\n",
      "# metadata['67']['samples'][0]['data']['altitude']['value']\n",
      "# metadata['67']['samples'][0]['data']['depth']['value']\n",
      "# metadata['67']['samples'][0]['envPackage']['data']['ph']['value']"
     ],
     "language": "python",
     "metadata": {},
     "outputs": []
    },
    {
     "cell_type": "code",
     "collapsed": false,
     "input": [
      "# Parse required metadata (latitude, longitude and pH) and discard samples with missing values\n",
      "\n",
      "metadata = []\n",
      "for project_id in raw_metadata:\n",
      "    project_name = raw_metadata[project_id]['data']['project_name']['value']\n",
      "    for i, sample in enumerate(raw_metadata[project_id]['samples']):   \n",
      "        try:\n",
      "            sample_id = raw_metadata[project_id]['samples'][i]['libraries'][0]['data']['metagenome_id']['value'].split('.')[0]\n",
      "        except: sample_id = None\n",
      "        try:\n",
      "            lat = raw_metadata[project_id]['samples'][i]['data']['latitude']['value']\n",
      "            lng = raw_metadata[project_id]['samples'][i]['data']['longitude']['value']\n",
      "        except: lat, lng = None, None\n",
      "        try:\n",
      "            ph = raw_metadata[project_id]['samples'][i]['envPackage']['data']['ph']['value']\n",
      "            non_numeric = re.compile(r'[^\\d.]+')\n",
      "            ph = non_numeric.sub('', ph)\n",
      "        except: ph = None \n",
      "        sample_metadata = {\n",
      "            'id': sample_id,\n",
      "            'proj_name': project_name,\n",
      "            'proj_id': project_id,\n",
      "            'lat': lat,\n",
      "            'lng': lng,\n",
      "            'ph': ph\n",
      "        }\n",
      "        \n",
      "        # Only include samples without missing values\n",
      "        if None not in sample_metadata.values():\n",
      "            metadata.append(sample_metadata)\n",
      "            # print(sample_metadata['proj_name'], sample_metadata['id'], sample_metadata['lat'], sample_metadata['lng'], sample_metadata['ph'])"
     ],
     "language": "python",
     "metadata": {},
     "outputs": [],
     "prompt_number": 17
    },
    {
     "cell_type": "code",
     "collapsed": false,
     "input": [
      "# Retrieve abundance matrices in BIOM format for each sample using the API\n",
      "\n",
      "if not os.path.exists('biom'):\n",
      "    os.mkdir('biom')\n",
      "\n",
      "for sample in metadata:\n",
      "    with open('biom/{}.biom.json'.format(sample['id']), 'w') as biom_file:\n",
      "        call = requests.get('http://api.metagenomics.anl.gov/1/profile/mgm{}.3'.format(sample['id']),\n",
      "                            params = {'source':'RDP'})\n",
      "        print('Calling {}'.format(call.url))\n",
      "        biom_file.write(call.text + '\\n')\n",
      "        # time.sleep(1) # it's a RESTful API after all"
     ],
     "language": "python",
     "metadata": {},
     "outputs": [
      {
       "output_type": "stream",
       "stream": "stdout",
       "text": [
        "Calling http://api.metagenomics.anl.gov/1/profile/mgm4455655.3?source=RDP\n",
        "Calling http://api.metagenomics.anl.gov/1/profile/mgm4455656.3?source=RDP"
       ]
      },
      {
       "output_type": "stream",
       "stream": "stdout",
       "text": [
        "\n",
        "Calling http://api.metagenomics.anl.gov/1/profile/mgm4455657.3?source=RDP"
       ]
      },
      {
       "output_type": "stream",
       "stream": "stdout",
       "text": [
        "\n",
        "Calling http://api.metagenomics.anl.gov/1/profile/mgm4455658.3?source=RDP"
       ]
      },
      {
       "output_type": "stream",
       "stream": "stdout",
       "text": [
        "\n",
        "Calling http://api.metagenomics.anl.gov/1/profile/mgm4455659.3?source=RDP"
       ]
      },
      {
       "output_type": "stream",
       "stream": "stdout",
       "text": [
        "\n",
        "Calling http://api.metagenomics.anl.gov/1/profile/mgm4455660.3?source=RDP"
       ]
      },
      {
       "output_type": "stream",
       "stream": "stdout",
       "text": [
        "\n",
        "Calling http://api.metagenomics.anl.gov/1/profile/mgm4455661.3?source=RDP"
       ]
      },
      {
       "output_type": "stream",
       "stream": "stdout",
       "text": [
        "\n",
        "Calling http://api.metagenomics.anl.gov/1/profile/mgm4455662.3?source=RDP"
       ]
      },
      {
       "output_type": "stream",
       "stream": "stdout",
       "text": [
        "\n",
        "Calling http://api.metagenomics.anl.gov/1/profile/mgm4455663.3?source=RDP"
       ]
      },
      {
       "output_type": "stream",
       "stream": "stdout",
       "text": [
        "\n",
        "Calling http://api.metagenomics.anl.gov/1/profile/mgm4455664.3?source=RDP"
       ]
      },
      {
       "output_type": "stream",
       "stream": "stdout",
       "text": [
        "\n",
        "Calling http://api.metagenomics.anl.gov/1/profile/mgm4455665.3?source=RDP"
       ]
      },
      {
       "output_type": "stream",
       "stream": "stdout",
       "text": [
        "\n",
        "Calling http://api.metagenomics.anl.gov/1/profile/mgm4455666.3?source=RDP"
       ]
      },
      {
       "output_type": "stream",
       "stream": "stdout",
       "text": [
        "\n",
        "Calling http://api.metagenomics.anl.gov/1/profile/mgm4455667.3?source=RDP"
       ]
      },
      {
       "output_type": "stream",
       "stream": "stdout",
       "text": [
        "\n",
        "Calling http://api.metagenomics.anl.gov/1/profile/mgm4455668.3?source=RDP"
       ]
      },
      {
       "output_type": "stream",
       "stream": "stdout",
       "text": [
        "\n",
        "Calling http://api.metagenomics.anl.gov/1/profile/mgm4455669.3?source=RDP"
       ]
      },
      {
       "output_type": "stream",
       "stream": "stdout",
       "text": [
        "\n",
        "Calling http://api.metagenomics.anl.gov/1/profile/mgm4455670.3?source=RDP"
       ]
      },
      {
       "output_type": "stream",
       "stream": "stdout",
       "text": [
        "\n",
        "Calling http://api.metagenomics.anl.gov/1/profile/mgm4455671.3?source=RDP"
       ]
      },
      {
       "output_type": "stream",
       "stream": "stdout",
       "text": [
        "\n",
        "Calling http://api.metagenomics.anl.gov/1/profile/mgm4455672.3?source=RDP"
       ]
      },
      {
       "output_type": "stream",
       "stream": "stdout",
       "text": [
        "\n",
        "Calling http://api.metagenomics.anl.gov/1/profile/mgm4455673.3?source=RDP"
       ]
      },
      {
       "output_type": "stream",
       "stream": "stdout",
       "text": [
        "\n",
        "Calling http://api.metagenomics.anl.gov/1/profile/mgm4455674.3?source=RDP"
       ]
      },
      {
       "output_type": "stream",
       "stream": "stdout",
       "text": [
        "\n",
        "Calling http://api.metagenomics.anl.gov/1/profile/mgm4455675.3?source=RDP"
       ]
      },
      {
       "output_type": "stream",
       "stream": "stdout",
       "text": [
        "\n",
        "Calling http://api.metagenomics.anl.gov/1/profile/mgm4455676.3?source=RDP"
       ]
      },
      {
       "output_type": "stream",
       "stream": "stdout",
       "text": [
        "\n",
        "Calling http://api.metagenomics.anl.gov/1/profile/mgm4455677.3?source=RDP"
       ]
      },
      {
       "output_type": "stream",
       "stream": "stdout",
       "text": [
        "\n",
        "Calling http://api.metagenomics.anl.gov/1/profile/mgm4455678.3?source=RDP"
       ]
      },
      {
       "output_type": "stream",
       "stream": "stdout",
       "text": [
        "\n",
        "Calling http://api.metagenomics.anl.gov/1/profile/mgm4455679.3?source=RDP"
       ]
      },
      {
       "output_type": "stream",
       "stream": "stdout",
       "text": [
        "\n",
        "Calling http://api.metagenomics.anl.gov/1/profile/mgm4455680.3?source=RDP"
       ]
      },
      {
       "output_type": "stream",
       "stream": "stdout",
       "text": [
        "\n",
        "Calling http://api.metagenomics.anl.gov/1/profile/mgm4455737.3?source=RDP"
       ]
      },
      {
       "output_type": "stream",
       "stream": "stdout",
       "text": [
        "\n",
        "Calling http://api.metagenomics.anl.gov/1/profile/mgm4455738.3?source=RDP"
       ]
      },
      {
       "output_type": "stream",
       "stream": "stdout",
       "text": [
        "\n",
        "Calling http://api.metagenomics.anl.gov/1/profile/mgm4455739.3?source=RDP"
       ]
      },
      {
       "output_type": "stream",
       "stream": "stdout",
       "text": [
        "\n",
        "Calling http://api.metagenomics.anl.gov/1/profile/mgm4455740.3?source=RDP"
       ]
      },
      {
       "output_type": "stream",
       "stream": "stdout",
       "text": [
        "\n",
        "Calling http://api.metagenomics.anl.gov/1/profile/mgm4455741.3?source=RDP"
       ]
      },
      {
       "output_type": "stream",
       "stream": "stdout",
       "text": [
        "\n",
        "Calling http://api.metagenomics.anl.gov/1/profile/mgm4455742.3?source=RDP"
       ]
      },
      {
       "output_type": "stream",
       "stream": "stdout",
       "text": [
        "\n",
        "Calling http://api.metagenomics.anl.gov/1/profile/mgm4455743.3?source=RDP"
       ]
      },
      {
       "output_type": "stream",
       "stream": "stdout",
       "text": [
        "\n",
        "Calling http://api.metagenomics.anl.gov/1/profile/mgm4455744.3?source=RDP"
       ]
      },
      {
       "output_type": "stream",
       "stream": "stdout",
       "text": [
        "\n",
        "Calling http://api.metagenomics.anl.gov/1/profile/mgm4455745.3?source=RDP"
       ]
      },
      {
       "output_type": "stream",
       "stream": "stdout",
       "text": [
        "\n",
        "Calling http://api.metagenomics.anl.gov/1/profile/mgm4455746.3?source=RDP"
       ]
      },
      {
       "output_type": "stream",
       "stream": "stdout",
       "text": [
        "\n",
        "Calling http://api.metagenomics.anl.gov/1/profile/mgm4455747.3?source=RDP"
       ]
      },
      {
       "output_type": "stream",
       "stream": "stdout",
       "text": [
        "\n",
        "Calling http://api.metagenomics.anl.gov/1/profile/mgm4455748.3?source=RDP"
       ]
      },
      {
       "output_type": "stream",
       "stream": "stdout",
       "text": [
        "\n",
        "Calling http://api.metagenomics.anl.gov/1/profile/mgm4455749.3?source=RDP"
       ]
      },
      {
       "output_type": "stream",
       "stream": "stdout",
       "text": [
        "\n",
        "Calling http://api.metagenomics.anl.gov/1/profile/mgm4455750.3?source=RDP"
       ]
      },
      {
       "output_type": "stream",
       "stream": "stdout",
       "text": [
        "\n",
        "Calling http://api.metagenomics.anl.gov/1/profile/mgm4455751.3?source=RDP"
       ]
      },
      {
       "output_type": "stream",
       "stream": "stdout",
       "text": [
        "\n",
        "Calling http://api.metagenomics.anl.gov/1/profile/mgm4455752.3?source=RDP"
       ]
      },
      {
       "output_type": "stream",
       "stream": "stdout",
       "text": [
        "\n",
        "Calling http://api.metagenomics.anl.gov/1/profile/mgm4455753.3?source=RDP"
       ]
      },
      {
       "output_type": "stream",
       "stream": "stdout",
       "text": [
        "\n",
        "Calling http://api.metagenomics.anl.gov/1/profile/mgm4455754.3?source=RDP"
       ]
      },
      {
       "output_type": "stream",
       "stream": "stdout",
       "text": [
        "\n",
        "Calling http://api.metagenomics.anl.gov/1/profile/mgm4455755.3?source=RDP"
       ]
      },
      {
       "output_type": "stream",
       "stream": "stdout",
       "text": [
        "\n",
        "Calling http://api.metagenomics.anl.gov/1/profile/mgm4455756.3?source=RDP"
       ]
      },
      {
       "output_type": "stream",
       "stream": "stdout",
       "text": [
        "\n",
        "Calling http://api.metagenomics.anl.gov/1/profile/mgm4455757.3?source=RDP"
       ]
      },
      {
       "output_type": "stream",
       "stream": "stdout",
       "text": [
        "\n",
        "Calling http://api.metagenomics.anl.gov/1/profile/mgm4455758.3?source=RDP"
       ]
      },
      {
       "output_type": "stream",
       "stream": "stdout",
       "text": [
        "\n",
        "Calling http://api.metagenomics.anl.gov/1/profile/mgm4455759.3?source=RDP"
       ]
      },
      {
       "output_type": "stream",
       "stream": "stdout",
       "text": [
        "\n",
        "Calling http://api.metagenomics.anl.gov/1/profile/mgm4455760.3?source=RDP"
       ]
      },
      {
       "output_type": "stream",
       "stream": "stdout",
       "text": [
        "\n",
        "Calling http://api.metagenomics.anl.gov/1/profile/mgm4455761.3?source=RDP"
       ]
      },
      {
       "output_type": "stream",
       "stream": "stdout",
       "text": [
        "\n",
        "Calling http://api.metagenomics.anl.gov/1/profile/mgm4455762.3?source=RDP"
       ]
      },
      {
       "output_type": "stream",
       "stream": "stdout",
       "text": [
        "\n",
        "Calling http://api.metagenomics.anl.gov/1/profile/mgm4455763.3?source=RDP"
       ]
      },
      {
       "output_type": "stream",
       "stream": "stdout",
       "text": [
        "\n",
        "Calling http://api.metagenomics.anl.gov/1/profile/mgm4455764.3?source=RDP"
       ]
      },
      {
       "output_type": "stream",
       "stream": "stdout",
       "text": [
        "\n",
        "Calling http://api.metagenomics.anl.gov/1/profile/mgm4455765.3?source=RDP"
       ]
      },
      {
       "output_type": "stream",
       "stream": "stdout",
       "text": [
        "\n",
        "Calling http://api.metagenomics.anl.gov/1/profile/mgm4455766.3?source=RDP"
       ]
      },
      {
       "output_type": "stream",
       "stream": "stdout",
       "text": [
        "\n",
        "Calling http://api.metagenomics.anl.gov/1/profile/mgm4455767.3?source=RDP"
       ]
      },
      {
       "output_type": "stream",
       "stream": "stdout",
       "text": [
        "\n",
        "Calling http://api.metagenomics.anl.gov/1/profile/mgm4455768.3?source=RDP"
       ]
      },
      {
       "output_type": "stream",
       "stream": "stdout",
       "text": [
        "\n",
        "Calling http://api.metagenomics.anl.gov/1/profile/mgm4455769.3?source=RDP"
       ]
      },
      {
       "output_type": "stream",
       "stream": "stdout",
       "text": [
        "\n",
        "Calling http://api.metagenomics.anl.gov/1/profile/mgm4455770.3?source=RDP"
       ]
      },
      {
       "output_type": "stream",
       "stream": "stdout",
       "text": [
        "\n",
        "Calling http://api.metagenomics.anl.gov/1/profile/mgm4455771.3?source=RDP"
       ]
      },
      {
       "output_type": "stream",
       "stream": "stdout",
       "text": [
        "\n",
        "Calling http://api.metagenomics.anl.gov/1/profile/mgm4455772.3?source=RDP"
       ]
      },
      {
       "output_type": "stream",
       "stream": "stdout",
       "text": [
        "\n",
        "Calling http://api.metagenomics.anl.gov/1/profile/mgm4455773.3?source=RDP"
       ]
      },
      {
       "output_type": "stream",
       "stream": "stdout",
       "text": [
        "\n",
        "Calling http://api.metagenomics.anl.gov/1/profile/mgm4455774.3?source=RDP"
       ]
      },
      {
       "output_type": "stream",
       "stream": "stdout",
       "text": [
        "\n",
        "Calling http://api.metagenomics.anl.gov/1/profile/mgm4455775.3?source=RDP"
       ]
      },
      {
       "output_type": "stream",
       "stream": "stdout",
       "text": [
        "\n",
        "Calling http://api.metagenomics.anl.gov/1/profile/mgm4455776.3?source=RDP"
       ]
      },
      {
       "output_type": "stream",
       "stream": "stdout",
       "text": [
        "\n",
        "Calling http://api.metagenomics.anl.gov/1/profile/mgm4455777.3?source=RDP"
       ]
      },
      {
       "output_type": "stream",
       "stream": "stdout",
       "text": [
        "\n",
        "Calling http://api.metagenomics.anl.gov/1/profile/mgm4455778.3?source=RDP"
       ]
      },
      {
       "output_type": "stream",
       "stream": "stdout",
       "text": [
        "\n",
        "Calling http://api.metagenomics.anl.gov/1/profile/mgm4455779.3?source=RDP"
       ]
      },
      {
       "output_type": "stream",
       "stream": "stdout",
       "text": [
        "\n",
        "Calling http://api.metagenomics.anl.gov/1/profile/mgm4455780.3?source=RDP"
       ]
      },
      {
       "output_type": "stream",
       "stream": "stdout",
       "text": [
        "\n",
        "Calling http://api.metagenomics.anl.gov/1/profile/mgm4455781.3?source=RDP"
       ]
      },
      {
       "output_type": "stream",
       "stream": "stdout",
       "text": [
        "\n",
        "Calling http://api.metagenomics.anl.gov/1/profile/mgm4455782.3?source=RDP"
       ]
      },
      {
       "output_type": "stream",
       "stream": "stdout",
       "text": [
        "\n",
        "Calling http://api.metagenomics.anl.gov/1/profile/mgm4455783.3?source=RDP"
       ]
      },
      {
       "output_type": "stream",
       "stream": "stdout",
       "text": [
        "\n",
        "Calling http://api.metagenomics.anl.gov/1/profile/mgm4455784.3?source=RDP"
       ]
      },
      {
       "output_type": "stream",
       "stream": "stdout",
       "text": [
        "\n",
        "Calling http://api.metagenomics.anl.gov/1/profile/mgm4455785.3?source=RDP"
       ]
      },
      {
       "output_type": "stream",
       "stream": "stdout",
       "text": [
        "\n",
        "Calling http://api.metagenomics.anl.gov/1/profile/mgm4455786.3?source=RDP"
       ]
      },
      {
       "output_type": "stream",
       "stream": "stdout",
       "text": [
        "\n",
        "Calling http://api.metagenomics.anl.gov/1/profile/mgm4455787.3?source=RDP"
       ]
      },
      {
       "output_type": "stream",
       "stream": "stdout",
       "text": [
        "\n",
        "Calling http://api.metagenomics.anl.gov/1/profile/mgm4455788.3?source=RDP"
       ]
      },
      {
       "output_type": "stream",
       "stream": "stdout",
       "text": [
        "\n",
        "Calling http://api.metagenomics.anl.gov/1/profile/mgm4455789.3?source=RDP"
       ]
      },
      {
       "output_type": "stream",
       "stream": "stdout",
       "text": [
        "\n",
        "Calling http://api.metagenomics.anl.gov/1/profile/mgm4455790.3?source=RDP"
       ]
      },
      {
       "output_type": "stream",
       "stream": "stdout",
       "text": [
        "\n",
        "Calling http://api.metagenomics.anl.gov/1/profile/mgm4455791.3?source=RDP"
       ]
      },
      {
       "output_type": "stream",
       "stream": "stdout",
       "text": [
        "\n",
        "Calling http://api.metagenomics.anl.gov/1/profile/mgm4455792.3?source=RDP"
       ]
      },
      {
       "output_type": "stream",
       "stream": "stdout",
       "text": [
        "\n",
        "Calling http://api.metagenomics.anl.gov/1/profile/mgm4455793.3?source=RDP"
       ]
      },
      {
       "output_type": "stream",
       "stream": "stdout",
       "text": [
        "\n",
        "Calling http://api.metagenomics.anl.gov/1/profile/mgm4455794.3?source=RDP"
       ]
      },
      {
       "output_type": "stream",
       "stream": "stdout",
       "text": [
        "\n",
        "Calling http://api.metagenomics.anl.gov/1/profile/mgm4455795.3?source=RDP"
       ]
      },
      {
       "output_type": "stream",
       "stream": "stdout",
       "text": [
        "\n",
        "Calling http://api.metagenomics.anl.gov/1/profile/mgm4455796.3?source=RDP"
       ]
      },
      {
       "output_type": "stream",
       "stream": "stdout",
       "text": [
        "\n",
        "Calling http://api.metagenomics.anl.gov/1/profile/mgm4455797.3?source=RDP"
       ]
      },
      {
       "output_type": "stream",
       "stream": "stdout",
       "text": [
        "\n",
        "Calling http://api.metagenomics.anl.gov/1/profile/mgm4455798.3?source=RDP"
       ]
      },
      {
       "output_type": "stream",
       "stream": "stdout",
       "text": [
        "\n",
        "Calling http://api.metagenomics.anl.gov/1/profile/mgm4455799.3?source=RDP"
       ]
      },
      {
       "output_type": "stream",
       "stream": "stdout",
       "text": [
        "\n",
        "Calling http://api.metagenomics.anl.gov/1/profile/mgm4455800.3?source=RDP"
       ]
      },
      {
       "output_type": "stream",
       "stream": "stdout",
       "text": [
        "\n",
        "Calling http://api.metagenomics.anl.gov/1/profile/mgm4455801.3?source=RDP"
       ]
      },
      {
       "output_type": "stream",
       "stream": "stdout",
       "text": [
        "\n",
        "Calling http://api.metagenomics.anl.gov/1/profile/mgm4455802.3?source=RDP"
       ]
      },
      {
       "output_type": "stream",
       "stream": "stdout",
       "text": [
        "\n",
        "Calling http://api.metagenomics.anl.gov/1/profile/mgm4455803.3?source=RDP"
       ]
      },
      {
       "output_type": "stream",
       "stream": "stdout",
       "text": [
        "\n",
        "Calling http://api.metagenomics.anl.gov/1/profile/mgm4455804.3?source=RDP"
       ]
      },
      {
       "output_type": "stream",
       "stream": "stdout",
       "text": [
        "\n",
        "Calling http://api.metagenomics.anl.gov/1/profile/mgm4455805.3?source=RDP"
       ]
      },
      {
       "output_type": "stream",
       "stream": "stdout",
       "text": [
        "\n",
        "Calling http://api.metagenomics.anl.gov/1/profile/mgm4455806.3?source=RDP"
       ]
      },
      {
       "output_type": "stream",
       "stream": "stdout",
       "text": [
        "\n",
        "Calling http://api.metagenomics.anl.gov/1/profile/mgm4455807.3?source=RDP"
       ]
      },
      {
       "output_type": "stream",
       "stream": "stdout",
       "text": [
        "\n",
        "Calling http://api.metagenomics.anl.gov/1/profile/mgm4455808.3?source=RDP"
       ]
      },
      {
       "output_type": "stream",
       "stream": "stdout",
       "text": [
        "\n",
        "Calling http://api.metagenomics.anl.gov/1/profile/mgm4455809.3?source=RDP"
       ]
      },
      {
       "output_type": "stream",
       "stream": "stdout",
       "text": [
        "\n",
        "Calling http://api.metagenomics.anl.gov/1/profile/mgm4455810.3?source=RDP"
       ]
      },
      {
       "output_type": "stream",
       "stream": "stdout",
       "text": [
        "\n",
        "Calling http://api.metagenomics.anl.gov/1/profile/mgm4455811.3?source=RDP"
       ]
      },
      {
       "output_type": "stream",
       "stream": "stdout",
       "text": [
        "\n",
        "Calling http://api.metagenomics.anl.gov/1/profile/mgm4455812.3?source=RDP"
       ]
      },
      {
       "output_type": "stream",
       "stream": "stdout",
       "text": [
        "\n",
        "Calling http://api.metagenomics.anl.gov/1/profile/mgm4455813.3?source=RDP"
       ]
      },
      {
       "output_type": "stream",
       "stream": "stdout",
       "text": [
        "\n",
        "Calling http://api.metagenomics.anl.gov/1/profile/mgm4455814.3?source=RDP"
       ]
      },
      {
       "output_type": "stream",
       "stream": "stdout",
       "text": [
        "\n",
        "Calling http://api.metagenomics.anl.gov/1/profile/mgm4455815.3?source=RDP"
       ]
      },
      {
       "output_type": "stream",
       "stream": "stdout",
       "text": [
        "\n",
        "Calling http://api.metagenomics.anl.gov/1/profile/mgm4455816.3?source=RDP"
       ]
      },
      {
       "output_type": "stream",
       "stream": "stdout",
       "text": [
        "\n",
        "Calling http://api.metagenomics.anl.gov/1/profile/mgm4455817.3?source=RDP"
       ]
      },
      {
       "output_type": "stream",
       "stream": "stdout",
       "text": [
        "\n",
        "Calling http://api.metagenomics.anl.gov/1/profile/mgm4455818.3?source=RDP"
       ]
      },
      {
       "output_type": "stream",
       "stream": "stdout",
       "text": [
        "\n",
        "Calling http://api.metagenomics.anl.gov/1/profile/mgm4455819.3?source=RDP"
       ]
      },
      {
       "output_type": "stream",
       "stream": "stdout",
       "text": [
        "\n",
        "Calling http://api.metagenomics.anl.gov/1/profile/mgm4455820.3?source=RDP"
       ]
      },
      {
       "output_type": "stream",
       "stream": "stdout",
       "text": [
        "\n",
        "Calling http://api.metagenomics.anl.gov/1/profile/mgm4455821.3?source=RDP"
       ]
      },
      {
       "output_type": "stream",
       "stream": "stdout",
       "text": [
        "\n",
        "Calling http://api.metagenomics.anl.gov/1/profile/mgm4455822.3?source=RDP"
       ]
      },
      {
       "output_type": "stream",
       "stream": "stdout",
       "text": [
        "\n",
        "Calling http://api.metagenomics.anl.gov/1/profile/mgm4455823.3?source=RDP"
       ]
      },
      {
       "output_type": "stream",
       "stream": "stdout",
       "text": [
        "\n",
        "Calling http://api.metagenomics.anl.gov/1/profile/mgm4455824.3?source=RDP"
       ]
      },
      {
       "output_type": "stream",
       "stream": "stdout",
       "text": [
        "\n",
        "Calling http://api.metagenomics.anl.gov/1/profile/mgm4455825.3?source=RDP"
       ]
      },
      {
       "output_type": "stream",
       "stream": "stdout",
       "text": [
        "\n",
        "Calling http://api.metagenomics.anl.gov/1/profile/mgm4455900.3?source=RDP"
       ]
      },
      {
       "output_type": "stream",
       "stream": "stdout",
       "text": [
        "\n",
        "Calling http://api.metagenomics.anl.gov/1/profile/mgm4455901.3?source=RDP"
       ]
      },
      {
       "output_type": "stream",
       "stream": "stdout",
       "text": [
        "\n",
        "Calling http://api.metagenomics.anl.gov/1/profile/mgm4455902.3?source=RDP"
       ]
      },
      {
       "output_type": "stream",
       "stream": "stdout",
       "text": [
        "\n",
        "Calling http://api.metagenomics.anl.gov/1/profile/mgm4455903.3?source=RDP"
       ]
      },
      {
       "output_type": "stream",
       "stream": "stdout",
       "text": [
        "\n",
        "Calling http://api.metagenomics.anl.gov/1/profile/mgm4455904.3?source=RDP"
       ]
      },
      {
       "output_type": "stream",
       "stream": "stdout",
       "text": [
        "\n",
        "Calling http://api.metagenomics.anl.gov/1/profile/mgm4455905.3?source=RDP"
       ]
      },
      {
       "output_type": "stream",
       "stream": "stdout",
       "text": [
        "\n",
        "Calling http://api.metagenomics.anl.gov/1/profile/mgm4455906.3?source=RDP"
       ]
      },
      {
       "output_type": "stream",
       "stream": "stdout",
       "text": [
        "\n",
        "Calling http://api.metagenomics.anl.gov/1/profile/mgm4455907.3?source=RDP"
       ]
      },
      {
       "output_type": "stream",
       "stream": "stdout",
       "text": [
        "\n",
        "Calling http://api.metagenomics.anl.gov/1/profile/mgm4455908.3?source=RDP"
       ]
      },
      {
       "output_type": "stream",
       "stream": "stdout",
       "text": [
        "\n",
        "Calling http://api.metagenomics.anl.gov/1/profile/mgm4455909.3?source=RDP"
       ]
      },
      {
       "output_type": "stream",
       "stream": "stdout",
       "text": [
        "\n",
        "Calling http://api.metagenomics.anl.gov/1/profile/mgm4455910.3?source=RDP"
       ]
      },
      {
       "output_type": "stream",
       "stream": "stdout",
       "text": [
        "\n",
        "Calling http://api.metagenomics.anl.gov/1/profile/mgm4455911.3?source=RDP"
       ]
      },
      {
       "output_type": "stream",
       "stream": "stdout",
       "text": [
        "\n",
        "Calling http://api.metagenomics.anl.gov/1/profile/mgm4455912.3?source=RDP"
       ]
      },
      {
       "output_type": "stream",
       "stream": "stdout",
       "text": [
        "\n",
        "Calling http://api.metagenomics.anl.gov/1/profile/mgm4455913.3?source=RDP"
       ]
      },
      {
       "output_type": "stream",
       "stream": "stdout",
       "text": [
        "\n",
        "Calling http://api.metagenomics.anl.gov/1/profile/mgm4455914.3?source=RDP"
       ]
      },
      {
       "output_type": "stream",
       "stream": "stdout",
       "text": [
        "\n",
        "Calling http://api.metagenomics.anl.gov/1/profile/mgm4455915.3?source=RDP"
       ]
      },
      {
       "output_type": "stream",
       "stream": "stdout",
       "text": [
        "\n",
        "Calling http://api.metagenomics.anl.gov/1/profile/mgm4455916.3?source=RDP"
       ]
      },
      {
       "output_type": "stream",
       "stream": "stdout",
       "text": [
        "\n",
        "Calling http://api.metagenomics.anl.gov/1/profile/mgm4455917.3?source=RDP"
       ]
      },
      {
       "output_type": "stream",
       "stream": "stdout",
       "text": [
        "\n",
        "Calling http://api.metagenomics.anl.gov/1/profile/mgm4455918.3?source=RDP"
       ]
      },
      {
       "output_type": "stream",
       "stream": "stdout",
       "text": [
        "\n",
        "Calling http://api.metagenomics.anl.gov/1/profile/mgm4455919.3?source=RDP"
       ]
      },
      {
       "output_type": "stream",
       "stream": "stdout",
       "text": [
        "\n",
        "Calling http://api.metagenomics.anl.gov/1/profile/mgm4455920.3?source=RDP"
       ]
      },
      {
       "output_type": "stream",
       "stream": "stdout",
       "text": [
        "\n",
        "Calling http://api.metagenomics.anl.gov/1/profile/mgm4455921.3?source=RDP"
       ]
      },
      {
       "output_type": "stream",
       "stream": "stdout",
       "text": [
        "\n",
        "Calling http://api.metagenomics.anl.gov/1/profile/mgm4455922.3?source=RDP"
       ]
      },
      {
       "output_type": "stream",
       "stream": "stdout",
       "text": [
        "\n",
        "Calling http://api.metagenomics.anl.gov/1/profile/mgm4455923.3?source=RDP"
       ]
      },
      {
       "output_type": "stream",
       "stream": "stdout",
       "text": [
        "\n",
        "Calling http://api.metagenomics.anl.gov/1/profile/mgm4455924.3?source=RDP"
       ]
      },
      {
       "output_type": "stream",
       "stream": "stdout",
       "text": [
        "\n",
        "Calling http://api.metagenomics.anl.gov/1/profile/mgm4455925.3?source=RDP"
       ]
      },
      {
       "output_type": "stream",
       "stream": "stdout",
       "text": [
        "\n",
        "Calling http://api.metagenomics.anl.gov/1/profile/mgm4455926.3?source=RDP"
       ]
      },
      {
       "output_type": "stream",
       "stream": "stdout",
       "text": [
        "\n",
        "Calling http://api.metagenomics.anl.gov/1/profile/mgm4455927.3?source=RDP"
       ]
      },
      {
       "output_type": "stream",
       "stream": "stdout",
       "text": [
        "\n",
        "Calling http://api.metagenomics.anl.gov/1/profile/mgm4455928.3?source=RDP"
       ]
      },
      {
       "output_type": "stream",
       "stream": "stdout",
       "text": [
        "\n",
        "Calling http://api.metagenomics.anl.gov/1/profile/mgm4455931.3?source=RDP"
       ]
      },
      {
       "output_type": "stream",
       "stream": "stdout",
       "text": [
        "\n",
        "Calling http://api.metagenomics.anl.gov/1/profile/mgm4455932.3?source=RDP"
       ]
      },
      {
       "output_type": "stream",
       "stream": "stdout",
       "text": [
        "\n",
        "Calling http://api.metagenomics.anl.gov/1/profile/mgm4455933.3?source=RDP"
       ]
      },
      {
       "output_type": "stream",
       "stream": "stdout",
       "text": [
        "\n",
        "Calling http://api.metagenomics.anl.gov/1/profile/mgm4455934.3?source=RDP"
       ]
      },
      {
       "output_type": "stream",
       "stream": "stdout",
       "text": [
        "\n",
        "Calling http://api.metagenomics.anl.gov/1/profile/mgm4455935.3?source=RDP"
       ]
      },
      {
       "output_type": "stream",
       "stream": "stdout",
       "text": [
        "\n",
        "Calling http://api.metagenomics.anl.gov/1/profile/mgm4455936.3?source=RDP"
       ]
      },
      {
       "output_type": "stream",
       "stream": "stdout",
       "text": [
        "\n",
        "Calling http://api.metagenomics.anl.gov/1/profile/mgm4455937.3?source=RDP"
       ]
      },
      {
       "output_type": "stream",
       "stream": "stdout",
       "text": [
        "\n",
        "Calling http://api.metagenomics.anl.gov/1/profile/mgm4455938.3?source=RDP"
       ]
      },
      {
       "output_type": "stream",
       "stream": "stdout",
       "text": [
        "\n",
        "Calling http://api.metagenomics.anl.gov/1/profile/mgm4455939.3?source=RDP"
       ]
      },
      {
       "output_type": "stream",
       "stream": "stdout",
       "text": [
        "\n",
        "Calling http://api.metagenomics.anl.gov/1/profile/mgm4455940.3?source=RDP"
       ]
      },
      {
       "output_type": "stream",
       "stream": "stdout",
       "text": [
        "\n",
        "Calling http://api.metagenomics.anl.gov/1/profile/mgm4455941.3?source=RDP"
       ]
      },
      {
       "output_type": "stream",
       "stream": "stdout",
       "text": [
        "\n",
        "Calling http://api.metagenomics.anl.gov/1/profile/mgm4455942.3?source=RDP"
       ]
      },
      {
       "output_type": "stream",
       "stream": "stdout",
       "text": [
        "\n",
        "Calling http://api.metagenomics.anl.gov/1/profile/mgm4455943.3?source=RDP"
       ]
      },
      {
       "output_type": "stream",
       "stream": "stdout",
       "text": [
        "\n",
        "Calling http://api.metagenomics.anl.gov/1/profile/mgm4455944.3?source=RDP"
       ]
      },
      {
       "output_type": "stream",
       "stream": "stdout",
       "text": [
        "\n",
        "Calling http://api.metagenomics.anl.gov/1/profile/mgm4455945.3?source=RDP"
       ]
      },
      {
       "output_type": "stream",
       "stream": "stdout",
       "text": [
        "\n",
        "Calling http://api.metagenomics.anl.gov/1/profile/mgm4455946.3?source=RDP"
       ]
      },
      {
       "output_type": "stream",
       "stream": "stdout",
       "text": [
        "\n"
       ]
      }
     ],
     "prompt_number": 15
    },
    {
     "cell_type": "code",
     "collapsed": false,
     "input": [
      "%%bash\n",
      "\n",
      "for file in biom/*.biom.json; do biom convert -i $file -o $file.tsv --to-tsv --header-key taxonomy ; done"
     ],
     "language": "python",
     "metadata": {},
     "outputs": [],
     "prompt_number": 16
    },
    {
     "cell_type": "code",
     "collapsed": false,
     "input": [
      "# Link projects to samples\n",
      "project_samples = {}\n",
      "for sample in metadata:\n",
      "    if sample['proj_name'] not in project_samples:\n",
      "        project_samples[sample['proj_name']] = []\n",
      "    project_samples[sample['proj_name']].append(sample['id'])\n",
      "\n",
      "# Parse abundances and taxonomies\n",
      "abundances = {}\n",
      "otus_taxonomies = {}\n",
      "for project, project_otus in project_samples.items():\n",
      "\tabundances[project] = {}\n",
      "\totus_taxonomies[project] = {}\n",
      "\tfor sample in project_otus:\n",
      "\t\twith open('biom/{}.biom.json.tsv'.format(sample), 'r') as otu_file:\n",
      "\t\t\tfor line in otu_file:\n",
      "\t\t\t\tif not line.startswith('#'):\n",
      "\t\t\t\t\trecord = line.split('\\t')\n",
      "\t\t\t\t\totu = record[0]\n",
      "\t\t\t\t\tabundance = record[1]\n",
      "\t\t\t\t\ttaxonomy = record[-1]\n",
      "\t\t\t\t\tif otu not in abundances[project]:\n",
      "\t\t\t\t\t\tabundances[project][otu] = {sample: abundance}\n",
      "\t\t\t\t\tif otu not in otus_taxonomies[project]:\n",
      "\t\t\t\t\t\totus_taxonomies[project][otu] = taxonomy\n",
      "\n",
      "# Add zeroes for absent OTUs\n",
      "for project, otus in abundances.items():\n",
      "\tfor otu, sample_abundances in otus.items():\n",
      "\t\tfor sample in project_samples[project]:\n",
      "\t\t\tif sample not in sample_abundances.keys():\n",
      "\t\t\t\tabundances[project][otu][sample] = float(0)\n",
      "\n",
      "if not os.path.exists('output'):\n",
      "    os.mkdir('output')                \n",
      "                \n",
      "# Output OTU counts\n",
      "for project, otus in abundances.items():\n",
      "\theader = ['otu_id'] + project_samples[project]\n",
      "\trows = [dict({'otu_id': otu}, **sample_abundances) for otu, sample_abundances in otus.items()]\n",
      "\twith open('output/{}_otu.csv'.format(project), 'w') as otu_csv_file:\n",
      "\t\tprint('Writing {}_otu.csv'.format(project))\n",
      "\t\tcsv_writer = csv.DictWriter(otu_csv_file, header)\n",
      "\t\tcsv_writer.writeheader()\n",
      "\t\tcsv_writer.writerows(rows)\n",
      "\n",
      "# Prepare OTU taxonomies\n",
      "parsed_otus_taxonomies = {}\n",
      "for project, otus in otus_taxonomies.items():\n",
      "\tparsed_otus_taxonomies[project] = {}\n",
      "\tfor otu, taxonomy in otus.items():\n",
      "\t\ttaxonomy = taxonomy.strip().split('; ')\n",
      "\t\trecord = {\n",
      "\t\t\t'kingdom':'k__{}'.format(taxonomy[0]),\n",
      "\t\t\t'phylum':'p__{}'.format(taxonomy[1]),\n",
      "\t\t\t'class':'c__{}'.format(taxonomy[2]),\n",
      "\t\t\t'order':'o__{}'.format(taxonomy[3]),\n",
      "\t\t\t'family':'f__{}'.format(taxonomy[4]),\n",
      "\t\t\t'genus':'g__{}'.format(taxonomy[5]),\n",
      "\t\t\t'species':'s__{}'.format(taxonomy[6])}\n",
      "\t\tparsed_otus_taxonomies[project][otu] = dict(record)\n",
      "\n",
      "# Output OTU taxonomic assignments\n",
      "for project, otus in parsed_otus_taxonomies.items():\n",
      "\theader = ['otu_id'] + ['kingdom', 'phylum', 'class', 'order', 'family', 'genus', 'species']\n",
      "\trows = [dict({'otu_id': otu}, **taxonomies) for otu, taxonomies in otus.items()]\n",
      "\twith open('output/{}_tax.csv'.format(project), 'w') as tax_csv_file:\n",
      "\t\tprint('Writing {}_tax.csv'.format(project))\n",
      "\t\tcsv_writer = csv.DictWriter(tax_csv_file, header)\n",
      "\t\tcsv_writer.writeheader()\n",
      "\t\tcsv_writer.writerows(rows)"
     ],
     "language": "python",
     "metadata": {},
     "outputs": [
      {
       "output_type": "stream",
       "stream": "stdout",
       "text": [
        "Writing eilers_soils_otu.csv\n",
        "Writing rousk_ph_gradient_otu.csv"
       ]
      },
      {
       "output_type": "stream",
       "stream": "stdout",
       "text": [
        "\n",
        "Writing lauber_88_soils_otu.csv\n",
        "Writing eilers_soils_tax.csv"
       ]
      },
      {
       "output_type": "stream",
       "stream": "stdout",
       "text": [
        "\n",
        "Writing rousk_ph_gradient_tax.csv\n",
        "Writing lauber_88_soils_tax.csv\n"
       ]
      }
     ],
     "prompt_number": 22
    },
    {
     "cell_type": "heading",
     "level": 3,
     "metadata": {},
     "source": [
      "*Everything up until now should be generalisable to different datasets... Code below is coupled to the specific datasets we used*"
     ]
    },
    {
     "cell_type": "code",
     "collapsed": false,
     "input": [
      "%%bash\n",
      "\n",
      "rscript normalise.R\n",
      "\n",
      "mv output/rousk_ph_gradient_tax.csv output/43_tax.csv\n",
      "mv output/rousk_ph_gradient_otu.csv output/43_otu.csv\n",
      "mv output/lauber_88_soils_tax.csv output/44_tax.csv\n",
      "mv output/lauber_88_soils_otu.csv output/44_otu.csv\n",
      "mv output/eilers_soils_tax.csv output/45_tax.csv\n",
      "mv output/eilers_soils_otu.csv output/45_otu.csv"
     ],
     "language": "python",
     "metadata": {},
     "outputs": [],
     "prompt_number": 23
    }
   ],
   "metadata": {}
  }
 ]
}